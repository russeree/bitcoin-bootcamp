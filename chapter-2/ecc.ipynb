{
 "cells": [
  {
   "cell_type": "code",
   "execution_count": 2,
   "id": "daaf1d88-4209-4117-b9e5-69f11488916b",
   "metadata": {},
   "outputs": [],
   "source": [
    "import ecc\n",
    "from ecc import FieldElement, Point"
   ]
  },
  {
   "cell_type": "code",
   "execution_count": 4,
   "id": "fc461143-0a1c-41e9-b2d8-d37a4cbd9e49",
   "metadata": {},
   "outputs": [],
   "source": [
    "p1 = Point(-1,-1,5,7)\n",
    "#p2 = Point(-1,-2,5,7) #Value error becuase -1,-2 is not on the curve"
   ]
  },
  {
   "cell_type": "code",
   "execution_count": 11,
   "id": "53fcb0c8-6aef-4cd5-bbdf-3e79924c4802",
   "metadata": {},
   "outputs": [
    {
     "name": "stdout",
     "output_type": "stream",
     "text": [
      "Point (2,4) is invalid\n",
      "Point (-1,-1) is valid\n",
      "Point (18,77) is valid\n",
      "Point (5,7) is invalid\n"
     ]
    }
   ],
   "source": [
    "ex1_points = [(2,4),(-1,-1),(18,77),(5,7)]\n",
    "results = []\n",
    "for point in ex1_points:\n",
    "    try:\n",
    "        testP = Point(point[0],point[1],5,7)\n",
    "        results.append(f'Point ({point[0]},{point[1]}) is valid')\n",
    "        pass\n",
    "    except:\n",
    "        results.append(f'Point ({point[0]},{point[1]}) is invalid')\n",
    "        pass\n",
    "\n",
    "for result in results:\n",
    "    print(result)"
   ]
  },
  {
   "cell_type": "code",
   "execution_count": null,
   "id": "c16cd4f8-db9f-4fc7-b58c-026cd8c97ab3",
   "metadata": {},
   "outputs": [],
   "source": []
  }
 ],
 "metadata": {
  "kernelspec": {
   "display_name": "Python 3 (ipykernel)",
   "language": "python",
   "name": "python3"
  },
  "language_info": {
   "codemirror_mode": {
    "name": "ipython",
    "version": 3
   },
   "file_extension": ".py",
   "mimetype": "text/x-python",
   "name": "python",
   "nbconvert_exporter": "python",
   "pygments_lexer": "ipython3",
   "version": "3.11.6"
  }
 },
 "nbformat": 4,
 "nbformat_minor": 5
}
