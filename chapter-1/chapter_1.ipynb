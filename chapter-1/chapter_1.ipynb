{
 "cells": [
  {
   "cell_type": "code",
   "execution_count": 1,
   "id": "7736886c-e4d1-4ab8-be43-8748b5a4267b",
   "metadata": {},
   "outputs": [],
   "source": [
    "import unittest\n",
    "import ecc\n",
    "from ecc import FieldElement"
   ]
  },
  {
   "cell_type": "code",
   "execution_count": 2,
   "id": "23cfffc2-9b72-4fad-bbd9-62abe04ca661",
   "metadata": {},
   "outputs": [
    {
     "name": "stderr",
     "output_type": "stream",
     "text": [
      "......\n",
      "----------------------------------------------------------------------\n",
      "Ran 6 tests in 0.003s\n",
      "\n",
      "OK\n"
     ]
    },
    {
     "data": {
      "text/plain": [
       "<unittest.runner.TextTestResult run=6 errors=0 failures=0>"
      ]
     },
     "execution_count": 2,
     "metadata": {},
     "output_type": "execute_result"
    }
   ],
   "source": [
    "### Run the unit tests on our library\n",
    "suite = unittest.TestLoader().loadTestsFromTestCase(ecc.FieldElementTest)\n",
    "unittest.TextTestRunner().run(suite)"
   ]
  },
  {
   "cell_type": "code",
   "execution_count": 3,
   "id": "0cf30278-9b43-414d-b7b7-0c143181d696",
   "metadata": {},
   "outputs": [
    {
     "name": "stdout",
     "output_type": "stream",
     "text": [
      "a is euqal to b: False\n",
      "a is euqal to a: True\n"
     ]
    }
   ],
   "source": [
    "a = FieldElement(7, 13)\n",
    "b = FieldElement(6, 13)\n",
    "print(f'a is euqal to b: {a == b}')\n",
    "print(f'a is euqal to a: {a == a}')"
   ]
  },
  {
   "cell_type": "code",
   "execution_count": 4,
   "id": "5b067795-af50-4715-bee2-3678c3b5db42",
   "metadata": {},
   "outputs": [
    {
     "name": "stdout",
     "output_type": "stream",
     "text": [
      "a not euqal to b: True\n",
      "a not euqal to a: False\n"
     ]
    }
   ],
   "source": [
    "### Excercise 1 - __ne__ \n",
    "a = FieldElement(7, 13)\n",
    "b = FieldElement(6, 13)\n",
    "print(f'a not euqal to b: {a != b}')\n",
    "print(f'a not euqal to a: {a != a}')"
   ]
  },
  {
   "cell_type": "code",
   "execution_count": 5,
   "id": "7fa2bc87-7b02-47d0-8e25-e58d86e654c8",
   "metadata": {},
   "outputs": [
    {
     "name": "stdout",
     "output_type": "stream",
     "text": [
      "7 mod 13: 7\n",
      "-27 mod 13: 12\n",
      "7^77 mod 13: 11\n"
     ]
    }
   ],
   "source": [
    "### Modulo Examples\n",
    "a = 7 % 13\n",
    "b = -27 % 13\n",
    "c = pow(7,77) % 13\n",
    "\n",
    "print(f'7 mod 13: {a}')\n",
    "print(f'-27 mod 13: {b}')\n",
    "print(f'7^77 mod 13: {c}')"
   ]
  },
  {
   "cell_type": "code",
   "execution_count": 6,
   "id": "a178f591-f36a-4f9f-83a7-fa3113bfb02a",
   "metadata": {},
   "outputs": [
    {
     "name": "stdout",
     "output_type": "stream",
     "text": [
      "Result of equation (44 + 13) mod 57: 0\n",
      "Result of equation (9 - 29) mod 57: 37\n",
      "Result of equation (17 + 42) mod 57: 2\n",
      "Result of equation (52 - 30 - 38) mod 57: 41\n"
     ]
    }
   ],
   "source": [
    "### Excercise 2 - Modulo Addition and Subtraction\n",
    "prime_num = 57\n",
    "a = (44 + 13) % prime_num\n",
    "b = (9 - 29) % prime_num\n",
    "c = (17 + 42) % prime_num\n",
    "d = (52 - 30 - 38) % prime_num\n",
    "\n",
    "print(f'Result of equation (44 + 13) mod 57: {a}')\n",
    "print(f'Result of equation (9 - 29) mod 57: {b}')\n",
    "print(f'Result of equation (17 + 42) mod 57: {c}')\n",
    "print(f'Result of equation (52 - 30 - 38) mod 57: {d}')"
   ]
  },
  {
   "cell_type": "code",
   "execution_count": 7,
   "id": "b75c016e-8493-49e6-a62a-0f64088986ae",
   "metadata": {},
   "outputs": [
    {
     "name": "stdout",
     "output_type": "stream",
     "text": [
      "Result of equation (95 * 45 * 31) mod 97: 23\n",
      "Result of equation (17 * 13 * 19 * 44) mod 97: 68\n",
      "Result of equation (12^7 * 77^49) mod 97: 63\n"
     ]
    }
   ],
   "source": [
    "### Excercise 4 - Modulo Multiplaction and Exponentiation\n",
    "prime_num = 97\n",
    "a = (95 * 45 * 31) % prime_num\n",
    "b = (17 * 13 * 19 * 44) % prime_num\n",
    "c = (pow(12,7) * pow(77,49)) % prime_num\n",
    "\n",
    "print(f'Result of equation (95 * 45 * 31) mod {prime_num}: {a}')\n",
    "print(f'Result of equation (17 * 13 * 19 * 44) mod {prime_num}: {b}')\n",
    "print(f'Result of equation (12^7 * 77^49) mod {prime_num}: {c}')"
   ]
  },
  {
   "cell_type": "code",
   "execution_count": 8,
   "id": "54ad937a-eea2-4d07-828f-4bd2fb26b858",
   "metadata": {},
   "outputs": [
    {
     "name": "stdout",
     "output_type": "stream",
     "text": [
      "prime 19: k 0 : [0, 0, 0, 0, 0, 0, 0, 0, 0, 0, 0, 0, 0, 0, 0, 0, 0, 0, 0]\n",
      "prime 19: k 1 : [0, 1, 2, 3, 4, 5, 6, 7, 8, 9, 10, 11, 12, 13, 14, 15, 16, 17, 18]\n",
      "prime 19: k 2 : [0, 1, 2, 3, 4, 5, 6, 7, 8, 9, 10, 11, 12, 13, 14, 15, 16, 17, 18]\n",
      "prime 19: k 3 : [0, 1, 2, 3, 4, 5, 6, 7, 8, 9, 10, 11, 12, 13, 14, 15, 16, 17, 18]\n",
      "prime 19: k 4 : [0, 1, 2, 3, 4, 5, 6, 7, 8, 9, 10, 11, 12, 13, 14, 15, 16, 17, 18]\n",
      "prime 19: k 5 : [0, 1, 2, 3, 4, 5, 6, 7, 8, 9, 10, 11, 12, 13, 14, 15, 16, 17, 18]\n",
      "prime 19: k 6 : [0, 1, 2, 3, 4, 5, 6, 7, 8, 9, 10, 11, 12, 13, 14, 15, 16, 17, 18]\n",
      "prime 19: k 7 : [0, 1, 2, 3, 4, 5, 6, 7, 8, 9, 10, 11, 12, 13, 14, 15, 16, 17, 18]\n",
      "prime 19: k 8 : [0, 1, 2, 3, 4, 5, 6, 7, 8, 9, 10, 11, 12, 13, 14, 15, 16, 17, 18]\n",
      "prime 19: k 9 : [0, 1, 2, 3, 4, 5, 6, 7, 8, 9, 10, 11, 12, 13, 14, 15, 16, 17, 18]\n",
      "prime 19: k 10 : [0, 1, 2, 3, 4, 5, 6, 7, 8, 9, 10, 11, 12, 13, 14, 15, 16, 17, 18]\n",
      "prime 19: k 11 : [0, 1, 2, 3, 4, 5, 6, 7, 8, 9, 10, 11, 12, 13, 14, 15, 16, 17, 18]\n",
      "prime 19: k 12 : [0, 1, 2, 3, 4, 5, 6, 7, 8, 9, 10, 11, 12, 13, 14, 15, 16, 17, 18]\n",
      "prime 19: k 13 : [0, 1, 2, 3, 4, 5, 6, 7, 8, 9, 10, 11, 12, 13, 14, 15, 16, 17, 18]\n",
      "prime 19: k 14 : [0, 1, 2, 3, 4, 5, 6, 7, 8, 9, 10, 11, 12, 13, 14, 15, 16, 17, 18]\n",
      "prime 19: k 15 : [0, 1, 2, 3, 4, 5, 6, 7, 8, 9, 10, 11, 12, 13, 14, 15, 16, 17, 18]\n",
      "prime 19: k 16 : [0, 1, 2, 3, 4, 5, 6, 7, 8, 9, 10, 11, 12, 13, 14, 15, 16, 17, 18]\n",
      "prime 19: k 17 : [0, 1, 2, 3, 4, 5, 6, 7, 8, 9, 10, 11, 12, 13, 14, 15, 16, 17, 18]\n",
      "prime 19: k 18 : [0, 1, 2, 3, 4, 5, 6, 7, 8, 9, 10, 11, 12, 13, 14, 15, 16, 17, 18]\n",
      "All generated sets are equal True\n"
     ]
    }
   ],
   "source": [
    "### Excercise 5\n",
    "def set_viewer(k, prime):\n",
    "    set = []\n",
    "    for i in range(prime):\n",
    "        set.append(FieldElement(k, prime) * FieldElement(i, prime))\n",
    "    return set\n",
    "    \n",
    "# Visualize the arrays\n",
    "f_prime = 19\n",
    "sets_equal = True\n",
    "previous_set = []\n",
    "print_elements_max = 30\n",
    "\n",
    "for k in range(f_prime):\n",
    "    set = []\n",
    "    for fe in set_viewer(k,f_prime):\n",
    "        set.append(fe.num)\n",
    "    # Sort the list for visualization\n",
    "    set.sort()\n",
    "    # Print only if it's reasonable to do so\n",
    "    if(len(set) <= print_elements_max):\n",
    "        print(f'prime {f_prime}: k {k} : {set}')\n",
    "    # Previous set is equal to the current set\n",
    "    if(k > 1):\n",
    "        if set != previous_set:\n",
    "            sets_equal = False\n",
    "    previous_set = set\n",
    "\n",
    "print(f'All generated sets are equal {sets_equal}')"
   ]
  },
  {
   "cell_type": "code",
   "execution_count": 12,
   "id": "b891fccd-02ab-4ee6-b752-55d4b3715e42",
   "metadata": {},
   "outputs": [
    {
     "name": "stdout",
     "output_type": "stream",
     "text": [
      "[1, 1, 1, 1, 1, 1]\n",
      "[1, 1, 1, 1, 1, 1, 1, 1, 1, 1]\n",
      "[1, 1, 1, 1, 1, 1, 1, 1, 1, 1, 1, 1, 1, 1, 1, 1]\n",
      "[1, 1, 1, 1, 1, 1, 1, 1, 1, 1, 1, 1, 1, 1, 1, 1, 1, 1, 1, 1, 1, 1, 1, 1, 1, 1, 1, 1, 1, 1]\n"
     ]
    }
   ],
   "source": [
    "### Excercise 7\n",
    "p_orders = [7,11,17,31]\n",
    "\n",
    "for p in p_orders:\n",
    "    set = []\n",
    "    for k in range(1,p):\n",
    "        b = FieldElement(k, p) ** (p-1)\n",
    "        set.append(b.num)\n",
    "    print(set)\n",
    "    "
   ]
  },
  {
   "cell_type": "code",
   "execution_count": null,
   "id": "c9bf9440-c670-4443-ac65-ac484f61c631",
   "metadata": {},
   "outputs": [],
   "source": []
  },
  {
   "cell_type": "code",
   "execution_count": null,
   "id": "e141fd8c-3265-40cc-9cc4-58aceafb0fa9",
   "metadata": {},
   "outputs": [],
   "source": []
  }
 ],
 "metadata": {
  "kernelspec": {
   "display_name": "Python 3 (ipykernel)",
   "language": "python",
   "name": "python3"
  },
  "language_info": {
   "codemirror_mode": {
    "name": "ipython",
    "version": 3
   },
   "file_extension": ".py",
   "mimetype": "text/x-python",
   "name": "python",
   "nbconvert_exporter": "python",
   "pygments_lexer": "ipython3",
   "version": "3.11.6"
  }
 },
 "nbformat": 4,
 "nbformat_minor": 5
}
