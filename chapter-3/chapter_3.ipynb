{
 "cells": [
  {
   "cell_type": "code",
   "execution_count": 1,
   "id": "723ae86a-3885-4e9e-a0c7-057fbd62573b",
   "metadata": {},
   "outputs": [],
   "source": [
    "import ecc\n",
    "\n",
    "from ecc import FieldElement, Point, ECCTest, S256Point, G, N\n",
    "from helper import run, hash256"
   ]
  },
  {
   "cell_type": "code",
   "execution_count": 2,
   "id": "9926ac78-e7ba-4206-86bf-d7126aaf36eb",
   "metadata": {},
   "outputs": [
    {
     "name": "stdout",
     "output_type": "stream",
     "text": [
      "True\n",
      "True\n",
      "False\n",
      "True\n",
      "False\n"
     ]
    }
   ],
   "source": [
    "### \n",
    "# Exercise 1\n",
    "# Evaluate whether these points are on the curve y^2 = x^3 + 7 over F223:\n",
    "# (192,105), (17,56), (200,119), (1,193), (42,99)\n",
    "\n",
    "order = 223\n",
    "\n",
    "a = FieldElement(0, order)\n",
    "b = FieldElement(7, order)\n",
    "\n",
    "# Test if the point is on the curve\n",
    "def on_curve(x,y):\n",
    "    return y**2 == x**3 + a*x + b\n",
    "\n",
    "# Feed the (x,y) into the tester, print results\n",
    "print(on_curve(FieldElement(192,order), FieldElement(105,order)))\n",
    "print(on_curve(FieldElement(17,order), FieldElement(56,order)))\n",
    "print(on_curve(FieldElement(200,order), FieldElement(119,order)))\n",
    "print(on_curve(FieldElement(1,order), FieldElement(193,order)))\n",
    "print(on_curve(FieldElement(42,order), FieldElement(99,order)))"
   ]
  },
  {
   "cell_type": "code",
   "execution_count": 3,
   "id": "a204e318-33e8-4106-96c1-7d58a59a4b9b",
   "metadata": {},
   "outputs": [
    {
     "name": "stderr",
     "output_type": "stream",
     "text": [
      ".\n",
      "----------------------------------------------------------------------\n",
      "Ran 1 test in 0.001s\n",
      "\n",
      "OK\n"
     ]
    }
   ],
   "source": [
    "run(ecc.ECCTest('test_on_curve'))"
   ]
  },
  {
   "cell_type": "code",
   "execution_count": 4,
   "id": "0c1015fe-9803-47bb-a9a0-1d81a8a17f6f",
   "metadata": {},
   "outputs": [
    {
     "name": "stdout",
     "output_type": "stream",
     "text": [
      "Point(220,181)_0_7 FieldElement(223)\n",
      "Point(215,68)_0_7 FieldElement(223)\n",
      "Point(47,71)_0_7 FieldElement(223)\n"
     ]
    }
   ],
   "source": [
    "# Coding Point Addition over Finite Fields\n",
    "order = 223\n",
    "\n",
    "a = FieldElement(0, order)\n",
    "b = FieldElement(7, order)\n",
    "\n",
    "##\n",
    "# Excercise 2\n",
    "#  - 170,142) + (60,139)\n",
    "x1 = FieldElement(170,order)\n",
    "x2 = FieldElement(60,order)\n",
    "y1 = FieldElement(142,order)\n",
    "y2 = FieldElement(139,order)\n",
    "Point1 = Point(x1,y1,a,b)\n",
    "Point2 = Point(x2,y2,a,b)\n",
    "print(Point1 + Point2)\n",
    "\n",
    "# - (47,71) + (17,56)\n",
    "x1 = FieldElement(47,order)\n",
    "x2 = FieldElement(17,order)\n",
    "y1 = FieldElement(71,order)\n",
    "y2 = FieldElement(56,order)\n",
    "Point1 = Point(x1,y1,a,b)\n",
    "Point2 = Point(x2,y2,a,b)\n",
    "print(Point1 + Point2)\n",
    "\n",
    "# - (143,98) + (76,66)\n",
    "x1 = FieldElement(143,order)\n",
    "x2 = FieldElement(76,order)\n",
    "y1 = FieldElement(98,order)\n",
    "y2 = FieldElement(66,order)\n",
    "Point1 = Point(x1,y1,a,b)\n",
    "Point2 = Point(x2,y2,a,b)\n",
    "print(Point1 + Point2)"
   ]
  },
  {
   "cell_type": "code",
   "execution_count": 5,
   "id": "e17978e8-d7eb-4780-9e66-39be2921fa42",
   "metadata": {},
   "outputs": [
    {
     "name": "stderr",
     "output_type": "stream",
     "text": [
      ".\n",
      "----------------------------------------------------------------------\n",
      "Ran 1 test in 0.001s\n",
      "\n",
      "OK\n"
     ]
    }
   ],
   "source": [
    "run(ecc.ECCTest('test_add'))"
   ]
  },
  {
   "cell_type": "code",
   "execution_count": 6,
   "id": "3da90176-bfc2-4b19-a0ee-93577062c7e6",
   "metadata": {},
   "outputs": [
    {
     "name": "stdout",
     "output_type": "stream",
     "text": [
      "1*(47,7)=(47,71)\n",
      "2*(47,7)=(36,111)\n",
      "3*(47,7)=(15,137)\n",
      "4*(47,7)=(194,51)\n",
      "5*(47,7)=(126,96)\n",
      "6*(47,7)=(139,137)\n",
      "7*(47,7)=(92,47)\n",
      "8*(47,7)=(116,55)\n",
      "9*(47,7)=(69,86)\n",
      "10*(47,7)=(154,150)\n",
      "11*(47,7)=(154,73)\n",
      "12*(47,7)=(69,137)\n",
      "13*(47,7)=(116,168)\n",
      "14*(47,7)=(92,176)\n",
      "15*(47,7)=(139,86)\n",
      "16*(47,7)=(126,127)\n",
      "17*(47,7)=(194,172)\n",
      "18*(47,7)=(15,86)\n",
      "19*(47,7)=(36,112)\n",
      "20*(47,7)=(47,152)\n"
     ]
    }
   ],
   "source": [
    "### Point Multiplications n(addition)\n",
    "order = 223\n",
    "\n",
    "a = FieldElement(0, order)\n",
    "b = FieldElement(7, order)\n",
    "x = FieldElement(47, order)\n",
    "y = FieldElement(71, order)\n",
    "p = Point(x,y,a,b)\n",
    "\n",
    "for s in range(1,21):\n",
    "    result = s*p\n",
    "    print(f'{s}*(47,7)=({result.x.num},{result.y.num})')"
   ]
  },
  {
   "cell_type": "code",
   "execution_count": 7,
   "id": "00035d80-ee8b-4a97-9aff-08c7ac08b249",
   "metadata": {},
   "outputs": [
    {
     "name": "stdout",
     "output_type": "stream",
     "text": [
      "7\n"
     ]
    }
   ],
   "source": [
    "### Generator Point Group : Excercise 5\n",
    "# For the curve y^2 = x^3 + 7 over F223, find the order of the group generated by (15,86).\n",
    "order = 223\n",
    "\n",
    "a = FieldElement(0, order)\n",
    "b = FieldElement(7, order)\n",
    "g_x = FieldElement(15, order)\n",
    "g_y = FieldElement(86, order)\n",
    "\n",
    "# User this to detect the loop over on the finite field\n",
    "inf_p = Point(None,None,a,b)\n",
    "generator_p = Point(g_x,g_y,a,b)\n",
    "current_p = generator_p\n",
    "order_accumulator = 1;\n",
    "\n",
    "# This does work well with generator points that create large orders\n",
    "while (True):\n",
    "    current_p = order_accumulator * current_p\n",
    "    if(current_p == inf_p):\n",
    "        break\n",
    "    order_accumulator += 1\n",
    "    \n",
    "print(order_accumulator)"
   ]
  },
  {
   "cell_type": "code",
   "execution_count": 25,
   "id": "c0f077fe-db29-4553-a811-21076895eb6e",
   "metadata": {},
   "outputs": [
    {
     "name": "stdout",
     "output_type": "stream",
     "text": [
      "True\n"
     ]
    }
   ],
   "source": [
    "### Bitcoin Brain Wallet Signing\n",
    "# Get the signed message\n",
    "e = int.from_bytes(hash256(b'private key'), 'big')\n",
    "z = int.from_bytes(hash256(b'Hello world.'), 'big')\n",
    "k = 123456789\n",
    "r = (k*G).x.num # Get the x-coordinate of the nonce * the generator\n",
    "k_inv = pow(k, N-2, N) #You need to get the inverse which is the group order from the generator point\n",
    "s = (z+r*e) * k_inv % N\n",
    "point = e*G\n",
    "\n",
    "# Lets verify it\n",
    "s_inv = pow(s, N-2, N)\n",
    "u = z * s_inv % N\n",
    "v = r * s_inv % N\n",
    "\n",
    "print((u*G + v*point).x.num == r)\n"
   ]
  },
  {
   "cell_type": "code",
   "execution_count": null,
   "id": "471b78dd-9629-4840-aee7-22a60f8697df",
   "metadata": {},
   "outputs": [],
   "source": []
  }
 ],
 "metadata": {
  "kernelspec": {
   "display_name": "Python 3 (ipykernel)",
   "language": "python",
   "name": "python3"
  },
  "language_info": {
   "codemirror_mode": {
    "name": "ipython",
    "version": 3
   },
   "file_extension": ".py",
   "mimetype": "text/x-python",
   "name": "python",
   "nbconvert_exporter": "python",
   "pygments_lexer": "ipython3",
   "version": "3.11.6"
  }
 },
 "nbformat": 4,
 "nbformat_minor": 5
}
