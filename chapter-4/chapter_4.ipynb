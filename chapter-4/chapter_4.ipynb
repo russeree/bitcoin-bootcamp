{
 "cells": [
  {
   "cell_type": "code",
   "execution_count": 1,
   "id": "6d558e0c-bd82-4d0f-8582-4d589ca367d4",
   "metadata": {},
   "outputs": [],
   "source": [
    "import ecc\n",
    "\n",
    "from ecc import FieldElement, Point, ECCTest, S256Point, G, N, PrivateKey, S256Point, Signature\n",
    "from helper import run, hash256, encode_base58, encode_base58_checksum"
   ]
  },
  {
   "cell_type": "code",
   "execution_count": 2,
   "id": "3b569d2e-fb50-4fbb-b417-e8bed7e12c9d",
   "metadata": {},
   "outputs": [
    {
     "name": "stdout",
     "output_type": "stream",
     "text": [
      "b'\\x04\\xff\\xe5X\\xe3\\x88\\x85/\\x01 \\xe4j\\xf2\\xd1\\xb3p\\xf8XT\\xa8\\xeb\\x08A\\x81\\x1e\\xce\\x0e>\\x03\\xd2\\x82\\xd5|1]\\xc7(\\x90\\xa4\\xf1\\n\\x14\\x81\\xc01\\xb0;5\\x1b\\r\\xc7\\x99\\x01\\xca\\x18\\xa0\\x0c\\xf0\\t\\xdb\\xdb\\x15z\\x1d\\x10'\n",
      "b'\\x04ek\\xdc\\xec\\x9a\\x87\\xc9\\xb2\\xe5\\xb3\"\\x91\\x00\\x9fe{\\xb5\\xeb\\x1e\\x1e\\xd2\\xfarNE8\\x80&*\\xd1{\\x1b\\xc7t\\x8d\\x0cG\\xb6\\xe4\\xf7\\xf6?pK?\\xdc\\x08\\xff\\x0c\\xdf\\xc80\\xd1|\\x1d\\x11j\\xa3\\xdc\\xe2\\xf9/\\xa6M'\n",
      "b'\\x04\\xd9\\x0c\\xd6%\\xee\\x87\\xdd8em\\xd9\\\\\\xf7\\x9fe\\xf6\\x0frs\\xb6}0\\x96\\xe6\\x8b\\xd8\\x1eOSBi\\x1f\\x84.\\xfav/\\xd5\\x99a\\xd0\\xe9\\x98\\x03\\xc6\\x1e\\xdb\\xa8\\xb3\\xe3\\xf7\\xdc:4\\x186\\xf9w3\\xae\\xbf\\x98q!'\n"
     ]
    }
   ],
   "source": [
    "# Create the private keys that contain the public keys as a part of the class\n",
    "sk1 = PrivateKey(5000)\n",
    "sk2 = PrivateKey(2018^5)\n",
    "sk3 = PrivateKey(int('deadbeef12345',16))\n",
    "# Now extract the public keys and encode them in an uncompressed SEC format\n",
    "print(sk1.point.sec(False))\n",
    "print(sk2.point.sec(False))\n",
    "print(sk3.point.sec(False))"
   ]
  },
  {
   "cell_type": "code",
   "execution_count": 3,
   "id": "a0545eb9-0080-4424-98b7-33d1f7ab4a88",
   "metadata": {},
   "outputs": [
    {
     "name": "stdout",
     "output_type": "stream",
     "text": [
      "b'\\x03W\\xa4\\xf3h\\x86\\x8a\\x8amW)\\x91\\xe4\\x84\\xe6d\\x81\\x0f\\xf1L\\x05\\xc0\\xfa\\x022u%\\x11Q\\xfe\\x0eS\\xd1'\n",
      "b'\\x02X1\\x1a\\xf9\\xc1\\xe5\\xf77\\xd3D\\xdf\\xb48\\xfaXh\\xfa9U\\xf1\\x0e\\xbf\\xf4\\xaa\\xf3%X/\\x80\\x9e)\\x8c'\n",
      "b'\\x02\\x96\\xbe[\\x12\\x92\\xf6\\xc8V\\xb3\\xc5eN\\x88o\\xc15\\x11F Y\\x08\\x9c\\xdf\\x9cG\\x96#\\xbf\\xcb\\xe7v\\x90'\n"
     ]
    }
   ],
   "source": [
    "# Create the private keys that contain the public keys as a part of the class\n",
    "sk1 = PrivateKey(5001)\n",
    "sk2 = PrivateKey(2019^5)\n",
    "sk3 = PrivateKey(int('deadbeef54321',16))\n",
    "# Now extract the public keys and encode them in a compressed SEC format\n",
    "print(sk1.point.sec())\n",
    "print(sk2.point.sec())\n",
    "print(sk3.point.sec())"
   ]
  },
  {
   "cell_type": "code",
   "execution_count": 4,
   "id": "bb532017-9319-4116-8037-bba0e5da04b6",
   "metadata": {},
   "outputs": [
    {
     "name": "stdout",
     "output_type": "stream",
     "text": [
      "b'0E\\x02 7 j\\x06\\x10\\x99\\\\X\\x07I\\x99\\xcb\\x97g\\xb8z\\xf4\\xc4\\x97\\x8d\\xb6\\x8c\\x06\\xe8\\xe6\\xe8\\x1d( G\\xa7\\xc6\\x02!\\x00\\x8c\\xa67Y\\xc1\\x15~\\xbe\\xae\\xc0\\xd0<\\xec\\xca\\x11\\x9f\\xc9\\xa7[\\xf8\\xe6\\xd0\\xfae\\xc8A\\xc8\\xe2s\\x8c\\xda\\xec'\n"
     ]
    }
   ],
   "source": [
    "# Exercise 3 - Find the DER format for a signature whose r and s values are:\n",
    "r = 0x37206a0610995c58074999cb9767b87af4c4978db68c06e8e6e81d282047a7c6\n",
    "s = 0x8ca63759c1157ebeaec0d03cecca119fc9a75bf8e6d0fa65c841c8e2738cdaec\n",
    "\n",
    "sig_example = Signature(r,s)\n",
    "print(sig_example.der())"
   ]
  },
  {
   "cell_type": "code",
   "execution_count": 21,
   "id": "a34b879b-777d-45bf-ae34-b68a70a00ff2",
   "metadata": {},
   "outputs": [
    {
     "name": "stdout",
     "output_type": "stream",
     "text": [
      "9MA8fRQrT4u8Zj8ZRd6MAiiyaxb2Y1CMpvVkHQu5hVM6\n",
      "4fE3H2E6XMp4SsxtwinF7w9a34ooUrwWe4WsW1458Pd\n",
      "EQJsjkd6JaGwxrjEhfeqPenqHwrBmPQZjJGNSCHBkcF7\n"
     ]
    }
   ],
   "source": [
    "# Exercise 4 - Convert the following hex values to binary and then to Base58\n",
    "def int_to_bytes(x):\n",
    "    return x.to_bytes((x.bit_length() + 7) // 8, 'big')\n",
    "\n",
    "# Hex representations\n",
    "a = 0x7c076ff316692a3d7eb3c3bb0f8b1488cf72e1afcd929e29307032997a838a3d\n",
    "b = 0xeff69ef2b1bd93a66ed5219add4fb51e11a840f404876325a1e8ffe0529a2c\n",
    "c = 0xc7207fee197d27c618aea621406f6bf5ef6fca38681d82b2f06fddbdce6feab6\n",
    "\n",
    "# Convert (a,b,c,...) to a bytes array for use in the encode_base58 function.\n",
    "a_bytes = int_to_bytes(a)\n",
    "b_bytes = int_to_bytes(b)\n",
    "c_bytes = int_to_bytes(c)\n",
    "\n",
    "# Print the representations\n",
    "print(encode_base58(a_bytes))\n",
    "print(encode_base58(b_bytes))\n",
    "print(encode_base58(c_bytes))"
   ]
  },
  {
   "cell_type": "code",
   "execution_count": null,
   "id": "2a8f34bf-27e7-41a8-9be5-6b4eb7ed9c89",
   "metadata": {},
   "outputs": [],
   "source": []
  }
 ],
 "metadata": {
  "kernelspec": {
   "display_name": "Python 3 (ipykernel)",
   "language": "python",
   "name": "python3"
  },
  "language_info": {
   "codemirror_mode": {
    "name": "ipython",
    "version": 3
   },
   "file_extension": ".py",
   "mimetype": "text/x-python",
   "name": "python",
   "nbconvert_exporter": "python",
   "pygments_lexer": "ipython3",
   "version": "3.11.6"
  }
 },
 "nbformat": 4,
 "nbformat_minor": 5
}
